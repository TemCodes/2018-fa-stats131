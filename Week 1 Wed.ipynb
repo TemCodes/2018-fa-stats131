{
 "cells": [
  {
   "cell_type": "code",
   "execution_count": 4,
   "metadata": {},
   "outputs": [
    {
     "data": {
      "text/plain": [
       "15"
      ]
     },
     "execution_count": 4,
     "metadata": {},
     "output_type": "execute_result"
    }
   ],
   "source": [
    "3 * 5"
   ]
  },
  {
   "cell_type": "code",
   "execution_count": 20,
   "metadata": {},
   "outputs": [
    {
     "name": "stdout",
     "output_type": "stream",
     "text": [
      "1\n",
      "16\n",
      "81\n",
      "256\n",
      "625\n",
      "1296\n",
      "2401\n",
      "4096\n",
      "6561\n",
      "10000\n",
      "14641\n",
      "20736\n",
      "28561\n",
      "38416\n",
      "================\n",
      "pig\n",
      "turkey\n",
      "cow\n",
      "monkey\n",
      "--------------\n",
      "pig\n",
      "turkey\n",
      "cow\n",
      "monkey\n",
      "pig\n",
      "turkey\n",
      "cow\n",
      "monkey\n",
      "pig\n",
      "turkey\n",
      "cow\n",
      "monkey\n",
      "pig\n",
      "turkey\n",
      "cow\n",
      "monkey\n"
     ]
    }
   ],
   "source": [
    "for i in range(1,15):\n",
    "    print(i**4)\n",
    "animals = ['pig','turkey','cow','monkey']\n",
    "print('================')\n",
    "for i in animals:\n",
    "    print(i)\n",
    "print('--------------')\n",
    "farm_animals = ['pig','turkey','cow','monkey','pig','turkey','cow','monkey','pig','turkey','cow','monkey','pig','turkey','cow','monkey']\n",
    "for i in farm_animals:\n",
    "    if farm_animals == \"monkey\":\n",
    "        continue\n",
    "    print(i)\n"
   ]
  },
  {
   "cell_type": "markdown",
   "metadata": {},
   "source": [
    "Marked List\n",
    "\n",
    "- item1\n",
    "- item2\n",
    "- item3\n"
   ]
  }
 ],
 "metadata": {
  "kernelspec": {
   "display_name": "Python 3",
   "language": "python",
   "name": "python3"
  },
  "language_info": {
   "codemirror_mode": {
    "name": "ipython",
    "version": 3
   },
   "file_extension": ".py",
   "mimetype": "text/x-python",
   "name": "python",
   "nbconvert_exporter": "python",
   "pygments_lexer": "ipython3",
   "version": "3.6.5"
  }
 },
 "nbformat": 4,
 "nbformat_minor": 2
}
